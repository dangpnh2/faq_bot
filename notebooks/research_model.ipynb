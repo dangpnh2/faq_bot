{
 "cells": [
  {
   "cell_type": "code",
   "execution_count": 1,
   "metadata": {},
   "outputs": [],
   "source": [
    "import pandas as pd\n",
    "import numpy as np\n",
    "from pathlib import Path\n",
    "import os\n",
    "os.environ['TRANSFORMERS_CACHE'] = '../huggingface_cache/model_cache'\n",
    "os.environ['HF_DATASETS_CACHE'] = '../huggingface_cache/data_cache'"
   ]
  },
  {
   "cell_type": "code",
   "execution_count": 2,
   "metadata": {},
   "outputs": [
    {
     "data": {
      "text/html": [
       "<div>\n",
       "<style scoped>\n",
       "    .dataframe tbody tr th:only-of-type {\n",
       "        vertical-align: middle;\n",
       "    }\n",
       "\n",
       "    .dataframe tbody tr th {\n",
       "        vertical-align: top;\n",
       "    }\n",
       "\n",
       "    .dataframe thead th {\n",
       "        text-align: right;\n",
       "    }\n",
       "</style>\n",
       "<table border=\"1\" class=\"dataframe\">\n",
       "  <thead>\n",
       "    <tr style=\"text-align: right;\">\n",
       "      <th></th>\n",
       "      <th>q</th>\n",
       "      <th>a</th>\n",
       "    </tr>\n",
       "  </thead>\n",
       "  <tbody>\n",
       "    <tr>\n",
       "      <th>0</th>\n",
       "      <td>1. How expensive is NMSU?</td>\n",
       "      <td>New Mexico State University is proud to offer ...</td>\n",
       "    </tr>\n",
       "    <tr>\n",
       "      <th>1</th>\n",
       "      <td>2. What kind of university is NMSU?</td>\n",
       "      <td>NMSU is a public, land-grant university, which...</td>\n",
       "    </tr>\n",
       "    <tr>\n",
       "      <th>2</th>\n",
       "      <td>3. Is NMSU ranked?</td>\n",
       "      <td>Yes! Visit this page for NMSU rankings and exp...</td>\n",
       "    </tr>\n",
       "    <tr>\n",
       "      <th>3</th>\n",
       "      <td>4. What are the most popular fields of study?</td>\n",
       "      <td>NMSU is a comprehensive university. Popular un...</td>\n",
       "    </tr>\n",
       "    <tr>\n",
       "      <th>4</th>\n",
       "      <td>5. What is the academic calendar at NMSU?</td>\n",
       "      <td>The academic calendar at NMSU, like most U.S. ...</td>\n",
       "    </tr>\n",
       "  </tbody>\n",
       "</table>\n",
       "</div>"
      ],
      "text/plain": [
       "                                               q  \\\n",
       "0                      1. How expensive is NMSU?   \n",
       "1            2. What kind of university is NMSU?   \n",
       "2                             3. Is NMSU ranked?   \n",
       "3  4. What are the most popular fields of study?   \n",
       "4      5. What is the academic calendar at NMSU?   \n",
       "\n",
       "                                                   a  \n",
       "0  New Mexico State University is proud to offer ...  \n",
       "1  NMSU is a public, land-grant university, which...  \n",
       "2  Yes! Visit this page for NMSU rankings and exp...  \n",
       "3  NMSU is a comprehensive university. Popular un...  \n",
       "4  The academic calendar at NMSU, like most U.S. ...  "
      ]
     },
     "execution_count": 2,
     "metadata": {},
     "output_type": "execute_result"
    }
   ],
   "source": [
    "data_path = Path(\"../data/pairs1.csv\")\n",
    "data = pd.read_csv(data_path, index_col='Unnamed: 0')\n",
    "data.head()"
   ]
  },
  {
   "cell_type": "code",
   "execution_count": 3,
   "metadata": {},
   "outputs": [
    {
     "data": {
      "text/html": [
       "<div>\n",
       "<style scoped>\n",
       "    .dataframe tbody tr th:only-of-type {\n",
       "        vertical-align: middle;\n",
       "    }\n",
       "\n",
       "    .dataframe tbody tr th {\n",
       "        vertical-align: top;\n",
       "    }\n",
       "\n",
       "    .dataframe thead th {\n",
       "        text-align: right;\n",
       "    }\n",
       "</style>\n",
       "<table border=\"1\" class=\"dataframe\">\n",
       "  <thead>\n",
       "    <tr style=\"text-align: right;\">\n",
       "      <th></th>\n",
       "      <th>q</th>\n",
       "      <th>a</th>\n",
       "    </tr>\n",
       "  </thead>\n",
       "  <tbody>\n",
       "    <tr>\n",
       "      <th>0</th>\n",
       "      <td>How expensive is NMSU?</td>\n",
       "      <td>New Mexico State University is proud to offer ...</td>\n",
       "    </tr>\n",
       "    <tr>\n",
       "      <th>1</th>\n",
       "      <td>What kind of university is NMSU?</td>\n",
       "      <td>NMSU is a public, land-grant university, which...</td>\n",
       "    </tr>\n",
       "    <tr>\n",
       "      <th>2</th>\n",
       "      <td>Is NMSU ranked?</td>\n",
       "      <td>Yes! Visit this page for NMSU rankings and exp...</td>\n",
       "    </tr>\n",
       "    <tr>\n",
       "      <th>3</th>\n",
       "      <td>What are the most popular fields of study?</td>\n",
       "      <td>NMSU is a comprehensive university. Popular un...</td>\n",
       "    </tr>\n",
       "    <tr>\n",
       "      <th>4</th>\n",
       "      <td>What is the academic calendar at NMSU?</td>\n",
       "      <td>The academic calendar at NMSU, like most U.S. ...</td>\n",
       "    </tr>\n",
       "    <tr>\n",
       "      <th>5</th>\n",
       "      <td>How many international students are there at N...</td>\n",
       "      <td>Currently NMSU enrolls more than 700 internati...</td>\n",
       "    </tr>\n",
       "    <tr>\n",
       "      <th>6</th>\n",
       "      <td>How do NMSU students pay their tuition, fees, ...</td>\n",
       "      <td>Payment for tuition (course costs) and fees ar...</td>\n",
       "    </tr>\n",
       "    <tr>\n",
       "      <th>7</th>\n",
       "      <td>Is financial aid available to international st...</td>\n",
       "      <td>There are limited numbers of scholarships and ...</td>\n",
       "    </tr>\n",
       "    <tr>\n",
       "      <th>8</th>\n",
       "      <td>What is the health insurance requirement? How ...</td>\n",
       "      <td>All F-1 students and J-1 students/scholars are...</td>\n",
       "    </tr>\n",
       "    <tr>\n",
       "      <th>9</th>\n",
       "      <td>Can I purchase a health insurance plan from my...</td>\n",
       "      <td>If you would like to have a non-NMSU health in...</td>\n",
       "    </tr>\n",
       "    <tr>\n",
       "      <th>10</th>\n",
       "      <td>Do my dependents who are in the U.S. with me n...</td>\n",
       "      <td>F-2 and J-2 dependents are also required to ha...</td>\n",
       "    </tr>\n",
       "    <tr>\n",
       "      <th>11</th>\n",
       "      <td>Are international students eligible for gradua...</td>\n",
       "      <td>Yes, if interested, applicants should contact ...</td>\n",
       "    </tr>\n",
       "    <tr>\n",
       "      <th>12</th>\n",
       "      <td>Can I work while studying at NMSU?</td>\n",
       "      <td>F-1 and J-1 students’ ability to work and trai...</td>\n",
       "    </tr>\n",
       "    <tr>\n",
       "      <th>13</th>\n",
       "      <td>How do I apply for admission?</td>\n",
       "      <td>The undergraduate application process and list...</td>\n",
       "    </tr>\n",
       "    <tr>\n",
       "      <th>14</th>\n",
       "      <td>How long does the application process take?</td>\n",
       "      <td>The application and admission process from sta...</td>\n",
       "    </tr>\n",
       "    <tr>\n",
       "      <th>15</th>\n",
       "      <td>What are the application deadlines?</td>\n",
       "      <td>NMSU does not have a university-wide applicati...</td>\n",
       "    </tr>\n",
       "    <tr>\n",
       "      <th>16</th>\n",
       "      <td>Although I haven't graduated from high school/...</td>\n",
       "      <td>If you are currently in an academic program an...</td>\n",
       "    </tr>\n",
       "    <tr>\n",
       "      <th>17</th>\n",
       "      <td>I'm a graduate applicant, do I apply to the Gr...</td>\n",
       "      <td>All graduate applicants submit all application...</td>\n",
       "    </tr>\n",
       "    <tr>\n",
       "      <th>18</th>\n",
       "      <td>How much is the application fee, and how can I...</td>\n",
       "      <td>The application fee is US $50, for undergradua...</td>\n",
       "    </tr>\n",
       "    <tr>\n",
       "      <th>19</th>\n",
       "      <td>Do I need original official documents for my a...</td>\n",
       "      <td>IMPORTANT: Documents submitted by applicants a...</td>\n",
       "    </tr>\n",
       "  </tbody>\n",
       "</table>\n",
       "</div>"
      ],
      "text/plain": [
       "                                                    q  \\\n",
       "0                              How expensive is NMSU?   \n",
       "1                    What kind of university is NMSU?   \n",
       "2                                     Is NMSU ranked?   \n",
       "3          What are the most popular fields of study?   \n",
       "4              What is the academic calendar at NMSU?   \n",
       "5   How many international students are there at N...   \n",
       "6   How do NMSU students pay their tuition, fees, ...   \n",
       "7   Is financial aid available to international st...   \n",
       "8   What is the health insurance requirement? How ...   \n",
       "9   Can I purchase a health insurance plan from my...   \n",
       "10  Do my dependents who are in the U.S. with me n...   \n",
       "11  Are international students eligible for gradua...   \n",
       "12                 Can I work while studying at NMSU?   \n",
       "13                      How do I apply for admission?   \n",
       "14        How long does the application process take?   \n",
       "15                What are the application deadlines?   \n",
       "16  Although I haven't graduated from high school/...   \n",
       "17  I'm a graduate applicant, do I apply to the Gr...   \n",
       "18  How much is the application fee, and how can I...   \n",
       "19  Do I need original official documents for my a...   \n",
       "\n",
       "                                                    a  \n",
       "0   New Mexico State University is proud to offer ...  \n",
       "1   NMSU is a public, land-grant university, which...  \n",
       "2   Yes! Visit this page for NMSU rankings and exp...  \n",
       "3   NMSU is a comprehensive university. Popular un...  \n",
       "4   The academic calendar at NMSU, like most U.S. ...  \n",
       "5   Currently NMSU enrolls more than 700 internati...  \n",
       "6   Payment for tuition (course costs) and fees ar...  \n",
       "7   There are limited numbers of scholarships and ...  \n",
       "8   All F-1 students and J-1 students/scholars are...  \n",
       "9   If you would like to have a non-NMSU health in...  \n",
       "10  F-2 and J-2 dependents are also required to ha...  \n",
       "11  Yes, if interested, applicants should contact ...  \n",
       "12  F-1 and J-1 students’ ability to work and trai...  \n",
       "13  The undergraduate application process and list...  \n",
       "14  The application and admission process from sta...  \n",
       "15  NMSU does not have a university-wide applicati...  \n",
       "16  If you are currently in an academic program an...  \n",
       "17  All graduate applicants submit all application...  \n",
       "18  The application fee is US $50, for undergradua...  \n",
       "19  IMPORTANT: Documents submitted by applicants a...  "
      ]
     },
     "execution_count": 3,
     "metadata": {},
     "output_type": "execute_result"
    }
   ],
   "source": [
    "import re\n",
    "\n",
    "def remove_number_start(sentence):\n",
    "    return re.sub('[0-9]+\\.\\ ', '', sentence)\n",
    "\n",
    "s = \"1. How expensive is NMSU?\"\n",
    "data['q'] = data['q'].apply(remove_number_start)\n",
    "data.head(20)"
   ]
  },
  {
   "cell_type": "code",
   "execution_count": 4,
   "metadata": {},
   "outputs": [],
   "source": [
    "import torch\n",
    "from sentence_transformers import SentenceTransformer\n",
    "from transformers import pipeline\n",
    "\n",
    "DEVICE = torch.device('cuda' if torch.cuda.is_available() else 'cpu')\n",
    "# DEVICE = torch.device('cpu')\n",
    "\n",
    "qa_model = SentenceTransformer('sentence-transformers/multi-qa-MiniLM-L6-cos-v1')\n",
    "general_model = pipeline('text-generation', model='EleutherAI/gpt-neo-1.3B', device=DEVICE)"
   ]
  },
  {
   "cell_type": "code",
   "execution_count": 9,
   "metadata": {},
   "outputs": [],
   "source": [
    "class FAQBot:\n",
    "    def __init__(\n",
    "        self, \n",
    "        qa_model,\n",
    "        general_model,\n",
    "        database: pd.DataFrame,\n",
    "        threshold=0.8,\n",
    "    ):\n",
    "        self.qa_model = qa_model\n",
    "        self.general_model = general_model\n",
    "        self.database = database\n",
    "        self.threshold = threshold\n",
    "\n",
    "\n",
    "        self.q_embeddings = self.qa_model.encode(\n",
    "            self.database['q'],\n",
    "            device=DEVICE,\n",
    "            convert_to_tensor=True,\n",
    "        )\n",
    "\n",
    "    def get_answer(self, question: str):\n",
    "        user_qe = self.qa_model.encode(\n",
    "            question,\n",
    "            device=DEVICE,\n",
    "            convert_to_tensor=True,\n",
    "        )\n",
    "        user_qe = user_qe.view(1, -1)\n",
    "        calc_score = torch.nn.CosineSimilarity(dim=1, eps=1e-08)\n",
    "        dists = calc_score(user_qe, self.q_embeddings)\n",
    "        ans_idx = torch.argmax(dists).cpu().numpy()\n",
    "        best_score = dists[ans_idx]\n",
    "        result = {}\n",
    "        if best_score >= self.threshold:\n",
    "            result['Score'] = best_score\n",
    "            result['Question'] = data['q'][ans_idx]\n",
    "            result['Answer'] = data['a'][ans_idx]\n",
    "        else:\n",
    "            ans = self.general_model(question, do_sample=True, min_length=10, max_new_tokens=100)[0]\n",
    "            result['Answer'] = ans['generated_text'].split('\\n\\n')[1]\n",
    "        return result\n",
    "\n",
    "faq_bot = FAQBot(\n",
    "    qa_model=qa_model,\n",
    "    general_model=general_model,\n",
    "    database=data,\n",
    ")"
   ]
  },
  {
   "cell_type": "code",
   "execution_count": 12,
   "metadata": {},
   "outputs": [
    {
     "name": "stderr",
     "output_type": "stream",
     "text": [
      "Setting `pad_token_id` to `eos_token_id`:50256 for open-end generation.\n"
     ]
    },
    {
     "data": {
      "text/plain": [
       "{'Answer': 'We don’t go around thinking we have purpose, but there are always reasons why we go to work each day. What is it that makes you want to walk down the road? How does it feel to drive your car? Or walk down the sidewalk? Or take the stairs of a building? Or eat lunch at work? Or read the newspaper? Or watch TV?'}"
      ]
     },
     "execution_count": 12,
     "metadata": {},
     "output_type": "execute_result"
    }
   ],
   "source": [
    "faq_bot.get_answer(\"What is your purpose?\")"
   ]
  },
  {
   "cell_type": "code",
   "execution_count": 6,
   "metadata": {},
   "outputs": [],
   "source": [
    "import ipywidgets as widgets"
   ]
  },
  {
   "cell_type": "code",
   "execution_count": 12,
   "metadata": {},
   "outputs": [
    {
     "data": {
      "application/vnd.jupyter.widget-view+json": {
       "model_id": "de3029725ed04f67be6ca6722cee8719",
       "version_major": 2,
       "version_minor": 0
      },
      "text/plain": [
       "Text(value='', description='String:', placeholder='Type something')"
      ]
     },
     "metadata": {},
     "output_type": "display_data"
    }
   ],
   "source": [
    "input_question = widgets.Text(\n",
    "    placeholder='Type something',\n",
    "    description='User question:',\n",
    ")\n",
    "score_text = \n",
    "display(input_question)\n",
    "faq_bot.get_answer(input_question.value)"
   ]
  },
  {
   "cell_type": "code",
   "execution_count": 9,
   "metadata": {},
   "outputs": [
    {
     "data": {
      "text/plain": [
       "'Hello World'"
      ]
     },
     "execution_count": 9,
     "metadata": {},
     "output_type": "execute_result"
    }
   ],
   "source": [
    "input_question.value"
   ]
  }
 ],
 "metadata": {
  "kernelspec": {
   "display_name": "TorchEnv",
   "language": "python",
   "name": "python3"
  },
  "language_info": {
   "codemirror_mode": {
    "name": "ipython",
    "version": 3
   },
   "file_extension": ".py",
   "mimetype": "text/x-python",
   "name": "python",
   "nbconvert_exporter": "python",
   "pygments_lexer": "ipython3",
   "version": "3.10.12"
  }
 },
 "nbformat": 4,
 "nbformat_minor": 2
}
